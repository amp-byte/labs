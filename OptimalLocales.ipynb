{
 "cells": [
  {
   "cell_type": "code",
   "execution_count": null,
   "id": "0fd6247f",
   "metadata": {},
   "outputs": [],
   "source": [
    "# this lab is an example of Decision Optimization\n",
    "# a coffee company plans to open more stores but wants to know where they can be located based on walking distance from libraries"
   ]
  },
  {
   "cell_type": "code",
   "execution_count": null,
   "id": "f6985834",
   "metadata": {},
   "outputs": [],
   "source": [
    "# import docplex\n",
    "import sys\n",
    "import docplex.mp"
   ]
  },
  {
   "cell_type": "code",
   "execution_count": null,
   "id": "bdf97d8e",
   "metadata": {},
   "outputs": [],
   "source": [
    "# prepare the data, Store longitude, latitude and street crossing name of each public library location.\n",
    "class XPoint(object):\n",
    "    def __init__(self, x, y):\n",
    "        self.x = x\n",
    "        self.y = y\n",
    "    def __str__(self):\n",
    "        return \"P(%g_%g)\" % (self.x, self.y)\n",
    "\n",
    "class NamedPoint(XPoint):\n",
    "    def __init__(self, name, x, y):\n",
    "        XPoint.__init__(self, x, y)\n",
    "        self.name = name\n",
    "    def __str__(self):\n",
    "        return self.name"
   ]
  },
  {
   "cell_type": "code",
   "execution_count": null,
   "id": "6ae19af5",
   "metadata": {},
   "outputs": [],
   "source": [
    "#define how to calculate the earth distance between 2 points\n",
    "try:\n",
    "    import geopy.distance\n",
    "except:\n",
    "    if hasattr(sys, 'real_prefix'):\n",
    "        #we are in a virtual env.\n",
    "        !pip install geopy \n",
    "    else:\n",
    "        !pip install --user geopy"
   ]
  },
  {
   "cell_type": "code",
   "execution_count": null,
   "id": "07084c20",
   "metadata": {},
   "outputs": [],
   "source": [
    "# Simple distance computation between 2 locations.\n",
    "from geopy.distance import great_circle\n",
    " \n",
    "def get_distance(p1, p2):\n",
    "    return great_circle((p1.y, p1.x), (p2.y, p2.x)).miles"
   ]
  },
  {
   "cell_type": "code",
   "execution_count": null,
   "id": "9d7c66d8",
   "metadata": {},
   "outputs": [],
   "source": [
    "# declare the list of libraries, parse the JSON file to get list\n",
    "def build_libraries_from_url(url, name_pos, lat_long_pos):\n",
    "    import requests\n",
    "    import json\n",
    "\n",
    "    r = requests.get(url)\n",
    "    myjson = json.loads(r.text, parse_constant='utf-8')\n",
    "    myjson = myjson['data']\n",
    "\n",
    "    libraries = []\n",
    "    k = 1\n",
    "    for location in myjson:\n",
    "        uname = location[name_pos]\n",
    "        try:\n",
    "            latitude = float(location[lat_long_pos][1])\n",
    "            longitude = float(location[lat_long_pos][2])\n",
    "        except TypeError:\n",
    "            latitude = longitude = None\n",
    "        try:\n",
    "            name = str(uname)\n",
    "        except:\n",
    "            name = \"???\"\n",
    "        name = \"P_%s_%d\" % (name, k)\n",
    "        if latitude and longitude:\n",
    "            cp = NamedPoint(name, longitude, latitude)\n",
    "            libraries.append(cp)\n",
    "            k += 1\n",
    "    return libraries"
   ]
  },
  {
   "cell_type": "code",
   "execution_count": null,
   "id": "58ba5af7",
   "metadata": {},
   "outputs": [],
   "source": [
    "libraries = build_libraries_from_url('https://data.cityofchicago.org/api/views/x8fc-8rcq/rows.json?accessType=DOWNLOAD',\n",
    "                                   name_pos=10,\n",
    "                                   lat_long_pos=16)"
   ]
  },
  {
   "cell_type": "code",
   "execution_count": null,
   "id": "d0d487f7",
   "metadata": {},
   "outputs": [],
   "source": [
    "print(\"There are %d public libraries in Chicago\" % (len(libraries)))"
   ]
  },
  {
   "cell_type": "code",
   "execution_count": null,
   "id": "124812c5",
   "metadata": {},
   "outputs": [],
   "source": [
    "# define shops, create a constant that indicates how many shopes to open\n",
    "nb_shops = 5\n",
    "print(\"We would like to open %d coffee shops\" % nb_shops)"
   ]
  },
  {
   "cell_type": "code",
   "execution_count": null,
   "id": "929683c0",
   "metadata": {},
   "outputs": [],
   "source": [
    "# validate data by displaying it using folium (map w/ markers)\n",
    "try:\n",
    "    import folium\n",
    "except:\n",
    "    if hasattr(sys, 'real_prefix'):\n",
    "        #we are in a virtual env.\n",
    "        !pip install folium \n",
    "    else:\n",
    "        !pip install folium"
   ]
  },
  {
   "cell_type": "code",
   "execution_count": null,
   "id": "b9946161",
   "metadata": {},
   "outputs": [],
   "source": [
    "import folium\n",
    "map_osm = folium.Map(location=[41.878, -87.629], zoom_start=11)\n",
    "for library in libraries:\n",
    "    lt = library.y\n",
    "    lg = library.x\n",
    "    folium.Marker([lt, lg]).add_to(map_osm)\n",
    "map_osm"
   ]
  },
  {
   "cell_type": "code",
   "execution_count": null,
   "id": "fe4d6d73",
   "metadata": {},
   "outputs": [],
   "source": [
    "# set up prescriptive model\n",
    "from docplex.mp.environment import Environment\n",
    "env = Environment()\n",
    "env.print_information()"
   ]
  },
  {
   "cell_type": "code",
   "execution_count": null,
   "id": "5bce29c6",
   "metadata": {},
   "outputs": [],
   "source": [
    "# create docplex model\n",
    "from docplex.mp.model import Model\n",
    "\n",
    "mdl = Model(\"coffee shops\")"
   ]
  },
  {
   "cell_type": "code",
   "execution_count": null,
   "id": "fb02a6c1",
   "metadata": {},
   "outputs": [],
   "source": [
    "# define decision variables\n",
    "BIGNUM = 999999999\n",
    "\n",
    "# Ensure unique points\n",
    "libraries = set(libraries)\n",
    "# For simplicity, let's consider that coffee shops candidate locations are the same as libraries locations.\n",
    "# That is: any library location can also be selected as a coffee shop.\n",
    "coffeeshop_locations = libraries\n",
    "\n",
    "# Decision vars\n",
    "# Binary vars indicating which coffee shop locations will be actually selected\n",
    "coffeeshop_vars = mdl.binary_var_dict(coffeeshop_locations, name=\"is_coffeeshop\")\n",
    "#\n",
    "# Binary vars representing the \"assigned\" libraries for each coffee shop\n",
    "link_vars = mdl.binary_var_matrix(coffeeshop_locations, libraries, \"link\")"
   ]
  },
  {
   "cell_type": "code",
   "execution_count": null,
   "id": "5799a9d2",
   "metadata": {},
   "outputs": [],
   "source": [
    "# constraints\n",
    "# if distance is suspect, exclude from the problem\n",
    "for c_loc in coffeeshop_locations:\n",
    "    for b in libraries:\n",
    "        if get_distance(c_loc, b) >= BIGNUM:\n",
    "            mdl.add_constraint(link_vars[c_loc, b] == 0, \"ct_forbid_{0!s}_{1!s}\".format(c_loc, b))"
   ]
  },
  {
   "cell_type": "code",
   "execution_count": null,
   "id": "622912b9",
   "metadata": {},
   "outputs": [],
   "source": [
    "# each library must be linked to a cafe that is open\n",
    "mdl.add_constraints(link_vars[c_loc, b] <= coffeeshop_vars[c_loc]\n",
    "                   for b in libraries\n",
    "                   for c_loc in coffeeshop_locations)\n",
    "mdl.print_information()"
   ]
  },
  {
   "cell_type": "code",
   "execution_count": null,
   "id": "8028761d",
   "metadata": {},
   "outputs": [],
   "source": [
    "# each library is linked to ONE cafe\n",
    "mdl.add_constraints(mdl.sum(link_vars[c_loc, b] for c_loc in coffeeshop_locations) == 1\n",
    "                   for b in libraries)\n",
    "mdl.print_information()"
   ]
  },
  {
   "cell_type": "code",
   "execution_count": null,
   "id": "135d36d1",
   "metadata": {},
   "outputs": [],
   "source": [
    "# there is a fixed num of cafes to open\n",
    "# Total nb of open coffee shops\n",
    "mdl.add_constraint(mdl.sum(coffeeshop_vars[c_loc] for c_loc in coffeeshop_locations) == nb_shops)\n",
    "\n",
    "# Print model information\n",
    "mdl.print_information()"
   ]
  },
  {
   "cell_type": "code",
   "execution_count": null,
   "id": "18c39e90",
   "metadata": {},
   "outputs": [],
   "source": [
    "# OBJECTIVE\n",
    "# Minimize total distance from points to hubs\n",
    "total_distance = mdl.sum(link_vars[c_loc, b] * get_distance(c_loc, b) for c_loc in coffeeshop_locations for b in libraries)\n",
    "mdl.minimize(total_distance)"
   ]
  },
  {
   "cell_type": "code",
   "execution_count": null,
   "id": "e7c2f13f",
   "metadata": {},
   "outputs": [],
   "source": [
    "# solve the model\n",
    "print(\"# coffee shops locations = %d\" % len(coffeeshop_locations))\n",
    "print(\"# coffee shops           = %d\" % nb_shops)\n",
    "\n",
    "assert mdl.solve(), \"!!! Solve of the model fails\""
   ]
  },
  {
   "cell_type": "code",
   "execution_count": null,
   "id": "4005922b",
   "metadata": {},
   "outputs": [],
   "source": [
    "# analyze solution by displaying the location of cafes on the map\n",
    "total_distance = mdl.objective_value\n",
    "open_coffeeshops = [c_loc for c_loc in coffeeshop_locations if coffeeshop_vars[c_loc].solution_value == 1]\n",
    "not_coffeeshops = [c_loc for c_loc in coffeeshop_locations if c_loc not in open_coffeeshops]\n",
    "edges = [(c_loc, b) for b in libraries for c_loc in coffeeshop_locations if int(link_vars[c_loc, b]) == 1]\n",
    "\n",
    "print(\"Total distance = %g\" % total_distance)\n",
    "print(\"# coffee shops  = {0}\".format(len(open_coffeeshops)))\n",
    "for c in open_coffeeshops:\n",
    "    print(\"new coffee shop: {0!s}\".format(c))"
   ]
  },
  {
   "cell_type": "code",
   "execution_count": null,
   "id": "c0630fd9",
   "metadata": {},
   "outputs": [],
   "source": [
    "# cafes are highlighted in RED\n",
    "import folium\n",
    "map_osm = folium.Map(location=[41.878, -87.629], zoom_start=11)\n",
    "for coffeeshop in open_coffeeshops:\n",
    "    lt = coffeeshop.y\n",
    "    lg = coffeeshop.x\n",
    "    folium.Marker([lt, lg], icon=folium.Icon(color='red',icon='info-sign')).add_to(map_osm)\n",
    "    \n",
    "for b in libraries:\n",
    "    if b not in open_coffeeshops:\n",
    "        lt = b.y\n",
    "        lg = b.x\n",
    "        folium.Marker([lt, lg]).add_to(map_osm)\n",
    "    \n",
    "\n",
    "for (c, b) in edges:\n",
    "    coordinates = [[c.y, c.x], [b.y, b.x]]\n",
    "    map_osm.add_child(folium.PolyLine(coordinates, color='#FF0000', weight=5))\n",
    "\n",
    "map_osm"
   ]
  }
 ],
 "metadata": {
  "kernelspec": {
   "display_name": "Python 3 (ipykernel)",
   "language": "python",
   "name": "python3"
  },
  "language_info": {
   "codemirror_mode": {
    "name": "ipython",
    "version": 3
   },
   "file_extension": ".py",
   "mimetype": "text/x-python",
   "name": "python",
   "nbconvert_exporter": "python",
   "pygments_lexer": "ipython3",
   "version": "3.11.3"
  }
 },
 "nbformat": 4,
 "nbformat_minor": 5
}
